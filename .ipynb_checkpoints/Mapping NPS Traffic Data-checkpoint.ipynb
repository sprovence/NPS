{
 "cells": [
  {
   "cell_type": "markdown",
   "metadata": {},
   "source": [
    "# Mapping National Park Service Visitor Traffic\n",
    "Overcrowding in national parkland is a [well-known](https://www.nationalparkstraveler.org/2020/01/overcrowding-was-problem-some-parks-2019-and-will-continue-2020) [problem](https://www.nytimes.com/2017/09/27/us/national-parks-overcrowding.html) in recent years. However, a lot of parks are visited relatively rarely, and the time of the year is an important factor in the size of the crowds, although this isn't a uniform trend throughout parks. For example, there are fewer visitors to parks in desert biomes in the summer, and the national park service (NPS) reports exactly zero visitors to several parks in December and January (unsurprisingly, these parks are all in Alaska). This notebook seeks to track visitor locations to national parks throughout each month of the year, pulling from the overall visitor statistics as well as traffic data available from the national park service."
   ]
  },
  {
   "cell_type": "markdown",
   "metadata": {},
   "source": [
    "### Datasets used\n",
    "All data used in this project was obtained from the national park service. The raw data files can be found [here](https://github.com/sprovence/NPS/tree/master/raw) and include:\n",
    "\n",
    " - Public use statistics (raw visitor counts to each park) from 1979-2018 from the [NPS IRMA datastore](https://irma.nps.gov/Datastore/)\n",
    " - Traffic counts from [IRMA](https://irma.nps.gov/Datastore/)\n",
    " - GIS data of park boundaries, also from [IRMA](https://irma.nps.gov/Datastore/Reference/Profile/2224545?lnv=True)\n",
    " - Park information and points of interest locations (visitors centers, campgrounds) pulled from the NPS website using their [API](https://www.nps.gov/subjects/developer/api-documentation.htm)\n",
    " - The dataset of the [size of the parks over time](https://github.com/sprovence/NPS/tree/master/raw/Acreage) was obtained by emailing the NPS and asking how park acreage had changed over time...\n",
    "\n",
    "### Data cleaning\n",
    "For the purposes of this notebook, all of the data used is already cleaned. Data is limited to the last available year for this map. Aside from merging datasets and cleaning in pandas, the bulk of data cleaning involved geocoding the traffic counter locations. Geocoding was performed using the NPS API data to pinpoint points of interest, and the [Google Maps API](https://developers.google.com/places/web-service/intro) for other locations that weren't obvious using the API data."
   ]
  },
  {
   "cell_type": "markdown",
   "metadata": {},
   "source": [
    "### Mapping with Panel and Folium\n",
    "The base of the map was developed in Folium in [nps_utils.py](https://github.com/sprovence/NPS/blob/master/nps_utils.py), and the interactivity was added using Panel in the [plotTraffic.py](https://github.com/sprovence/NPS/blob/master/plotTraffic.py) file."
   ]
  },
  {
   "cell_type": "code",
   "execution_count": null,
   "metadata": {},
   "outputs": [],
   "source": [
    "# Import packages and helper functions\n",
    "from plotTraffic import map_dash\n",
    "import panel as pn\n",
    "\n",
    "pn.extension()\n",
    "app = map_dash()"
   ]
  },
  {
   "cell_type": "code",
   "execution_count": null,
   "metadata": {},
   "outputs": [],
   "source": []
  },
  {
   "cell_type": "code",
   "execution_count": null,
   "metadata": {},
   "outputs": [],
   "source": []
  },
  {
   "cell_type": "code",
   "execution_count": null,
   "metadata": {},
   "outputs": [],
   "source": []
  }
 ],
 "metadata": {
  "kernelspec": {
   "display_name": "Python 3",
   "language": "python",
   "name": "python3"
  },
  "language_info": {
   "codemirror_mode": {
    "name": "ipython",
    "version": 3
   },
   "file_extension": ".py",
   "mimetype": "text/x-python",
   "name": "python",
   "nbconvert_exporter": "python",
   "pygments_lexer": "ipython3",
   "version": "3.7.3"
  }
 },
 "nbformat": 4,
 "nbformat_minor": 4
}
